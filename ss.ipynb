{
 "cells": [
  {
   "cell_type": "code",
   "execution_count": 1,
   "metadata": {},
   "outputs": [],
   "source": [
    "from selenium import webdriver\n",
    "from selenium.webdriver.chrome.service import Service\n",
    "from selenium.webdriver.chrome.options import Options\n",
    "import pandas as pd\n",
    "import numpy as np\n",
    "import time\n",
    "import os\n",
    "import sys"
   ]
  },
  {
   "cell_type": "code",
   "execution_count": 5,
   "metadata": {},
   "outputs": [],
   "source": [
    "application_path = os.path.dirname(sys.executable)\n",
    "\n",
    "website = \"http://www.sczg.unizg.hr/student-servis/ponuda-poslova/\"\n",
    "path = \"chromedriver_win32/chromedriver.exe\"\n",
    "\n",
    "# headless-mode\n",
    "options = Options()\n",
    "options.headless = True\n",
    "\n",
    "service = Service(executable_path=path)\n",
    "driver = webdriver.Chrome(service=service, options=options)\n",
    "driver.get(website)"
   ]
  },
  {
   "cell_type": "code",
   "execution_count": 6,
   "metadata": {},
   "outputs": [],
   "source": [
    "elements = driver.find_elements(by=\"xpath\", value='(//div[@class=\"content\"]/h2/a | //div[@class=\"content\"]/h2/strong/a)')\n",
    "links = [elem.get_attribute(\"href\") for elem in elements]"
   ]
  },
  {
   "cell_type": "code",
   "execution_count": 7,
   "metadata": {},
   "outputs": [
    {
     "name": "stdout",
     "output_type": "stream",
     "text": [
      "■■■■■■■■■■■\n",
      "Download Complete!\n"
     ]
    }
   ],
   "source": [
    "job_df = pd.DataFrame()\n",
    "\n",
    "for link in links:\n",
    "    driver.get(link)\n",
    "    #time.sleep(1)\n",
    "    \n",
    "    job_site = driver.find_elements(\n",
    "        by=\"xpath\", \n",
    "        value='//div[@class=\"newsItem\"]'\n",
    "        )\n",
    "\n",
    "    for element in job_site:\n",
    "            \n",
    "        category = element.find_element(\n",
    "            by=\"xpath\", \n",
    "            value='./h1'\n",
    "            ).text\n",
    "        job_listings = element.find_elements(\n",
    "            by=\"xpath\", \n",
    "            value='./div/p'\n",
    "            )\n",
    "\n",
    "        df_temp = pd.concat(\n",
    "            [pd.DataFrame(\n",
    "                {\"full_desc\": [job.text], \"category\": [category]}) for job in job_listings], \n",
    "                ignore_index=True\n",
    "                )\n",
    "        \n",
    "        job_df = pd.concat([job_df, df_temp], ignore_index=True)\n",
    "        \n",
    "    print(\"Downloading...\")\n",
    "    print(\"■\", end=\"\")\n",
    "\n",
    "print(\"\\nDownload Complete!\")\n",
    "driver.quit()"
   ]
  },
  {
   "cell_type": "code",
   "execution_count": 8,
   "metadata": {},
   "outputs": [],
   "source": [
    "job_df = job_df.apply(\n",
    "    lambda x: x.str.strip()\n",
    "    ).replace(\n",
    "        \"\", np.nan\n",
    "        )\n",
    "\n",
    "job_df[\"full_desc\"] = job_df[\"full_desc\"].replace(\n",
    "    r\"^[^\\d]\", \n",
    "    np.nan, \n",
    "    regex=True\n",
    "    )\n",
    "\n",
    "job_df = job_df.dropna().reset_index(drop=True)"
   ]
  },
  {
   "cell_type": "code",
   "execution_count": 9,
   "metadata": {},
   "outputs": [],
   "source": [
    "zgzup_mjesta = pd.read_csv(\"zgzup_mjesta.csv\", encoding=\"utf8\")\n",
    "town_list = list(zgzup_mjesta[\"Mjesto\"])\n",
    "\n",
    "def find_town(row):\n",
    "\n",
    "    if row[\"mjesto\"] is np.nan:\n",
    "        for town in town_list:\n",
    "            if town in row[\"full_desc\"]:\n",
    "                row[\"mjesto\"] = town\n",
    "    return row"
   ]
  },
  {
   "cell_type": "code",
   "execution_count": 12,
   "metadata": {},
   "outputs": [],
   "source": [
    "job_df[\"naslov\"] = job_df[\"full_desc\"].str.extract(\"(?:\\d{4}\\s?/)(.+?[^od])\\. \")\n",
    "\n",
    "job_df[\"radno_vrijeme\"] = job_df[\"full_desc\"].str.extract(\"(?<=vrijeme:)\\s*(.+?)\\. \")\n",
    "\n",
    "job_df[\"satnica/kn\"] = job_df[\"full_desc\"].str.extract(\"(\\d{1,4}[,\\.]?\\d{,2}\\s*)(?:[Kk]u?[nN][a]?|HRK)(?=[h/\\.]*)\")\n",
    "job_df[\"satnica/kn\"] = job_df[\"satnica/kn\"].replace(\",\", \".\", regex=True)\n",
    "job_df[\"satnica/kn\"] = pd.to_numeric(job_df[\"satnica/kn\"])\n",
    "\n",
    "job_df[\"mjesto\"] = job_df[\"full_desc\"].str.extract(\"(Zagreb)\")\n",
    "job_df = job_df.apply(find_town, axis=1)\n",
    "\n",
    "job_df[\"ulica\"] = job_df[\"full_desc\"].str.extract(\"([A-ZŠČĆŽĐ][a-zščćžđ]+(?:\\s[A-ZŠČĆŽĐ]?[a-zščćžđ]+){,2}?\\s\\d+\\w?)[^\\.]*?Zagreb\")\n",
    "ulica_other = job_df[\"full_desc\"].str.extract(\"Zagreb[^.]*?([A-ZŠČĆŽĐ][a-zščćžđ]+(?:\\s[A-ZŠČĆŽĐ]?[a-zščćžđ]+)*?\\s\\d+\\w?)\")\n",
    "job_df[\"ulica\"] = job_df[\"ulica\"].fillna(ulica_other[0])\n",
    "\n",
    "job_df[\"kontakt\"] = job_df[\"full_desc\"].str.extract(\"(?:[kK]ontakt|[pP]rijav\\w+).{,10}:(.*?)(?:\\.\\s|$)\")\n",
    "\n",
    "job_df[\"vjestine\"] = job_df[\"full_desc\"].str.extract(\"(?:[zZ]nanj|[vV]ještin|[Pp]otreb]\\w+).{,10}:(.*?)(?:\\.\\s)\")"
   ]
  },
  {
   "cell_type": "code",
   "execution_count": 16,
   "metadata": {},
   "outputs": [],
   "source": [
    "file_name = \"student_job_data.csv\"\n",
    "final_path = os.path.join(application_path, file_name)\n",
    "\n",
    "job_df.to_csv(final_path)"
   ]
  }
 ],
 "metadata": {
  "kernelspec": {
   "display_name": "Python 3.10.0 64-bit",
   "language": "python",
   "name": "python3"
  },
  "language_info": {
   "codemirror_mode": {
    "name": "ipython",
    "version": 3
   },
   "file_extension": ".py",
   "mimetype": "text/x-python",
   "name": "python",
   "nbconvert_exporter": "python",
   "pygments_lexer": "ipython3",
   "version": "3.10.0"
  },
  "orig_nbformat": 4,
  "vscode": {
   "interpreter": {
    "hash": "6361a9a073a2564ceaca5b7a897782d494791772eabc03bbeceb61e708bf820f"
   }
  }
 },
 "nbformat": 4,
 "nbformat_minor": 2
}
